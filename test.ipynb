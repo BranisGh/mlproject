{
 "cells": [
  {
   "cell_type": "code",
   "execution_count": 14,
   "metadata": {},
   "outputs": [],
   "source": [
    "from typing import List\n",
    "\n",
    "HYPEN_E_DOT = \"-e .\"\n",
    "def get_requirements(file_path: str) -> List[str]:\n",
    "    \"\"\"\n",
    "    Reads a requirements file and returns a list of requirements.\n",
    "\n",
    "    Args:\n",
    "        file_path (str): The path to the requirements file.\n",
    "\n",
    "    Returns:\n",
    "        List[str]: A list of requirements as strings.\n",
    "    \"\"\"\n",
    "    requirements = []\n",
    "    with open(file_path) as file_obj:\n",
    "        requirements = file_obj.readlines()\n",
    "        requirements = [req.strip() for req in requirements]\n",
    "\n",
    "        if HYPEN_E_DOT in requirements:\n",
    "            requirements.remove(HYPEN_E_DOT)\n",
    "\n",
    "    return requirements"
   ]
  },
  {
   "cell_type": "code",
   "execution_count": 15,
   "metadata": {},
   "outputs": [
    {
     "data": {
      "text/plain": [
       "['pandas', 'numpy', 'seaborn']"
      ]
     },
     "execution_count": 15,
     "metadata": {},
     "output_type": "execute_result"
    }
   ],
   "source": [
    "get_requirements('requirements.txt')"
   ]
  },
  {
   "cell_type": "code",
   "execution_count": null,
   "metadata": {},
   "outputs": [],
   "source": [
    "from pathlib import Path\n",
    "Path.cwd()"
   ]
  }
 ],
 "metadata": {
  "kernelspec": {
   "display_name": "Python 3",
   "language": "python",
   "name": "python3"
  },
  "language_info": {
   "codemirror_mode": {
    "name": "ipython",
    "version": 3
   },
   "file_extension": ".py",
   "mimetype": "text/x-python",
   "name": "python",
   "nbconvert_exporter": "python",
   "pygments_lexer": "ipython3",
   "version": "3.8.18"
  },
  "orig_nbformat": 4
 },
 "nbformat": 4,
 "nbformat_minor": 2
}
